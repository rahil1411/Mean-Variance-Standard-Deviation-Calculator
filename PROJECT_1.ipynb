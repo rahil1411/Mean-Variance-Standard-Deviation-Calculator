{
 "cells": [
  {
   "cell_type": "code",
   "execution_count": 181,
   "id": "5f55dbec",
   "metadata": {},
   "outputs": [],
   "source": [
    "import numpy as np"
   ]
  },
  {
   "cell_type": "code",
   "execution_count": 189,
   "id": "5dff392b",
   "metadata": {},
   "outputs": [],
   "source": [
    "list = [5,4,2,7,8,1,3,6,9]\n",
    "def calculate(list):\n",
    "    #list = [5,4,2,7,8,1,3,6,9]\n",
    "    arr = np.array(list, ndmin = 3)\n",
    "    arr = arr.reshape(3,3)\n",
    "    M1 = arr.mean(axis=0)\n",
    "    M2= arr.mean(axis=1)\n",
    "    M3= arr.mean()\n",
    "    \n",
    "    V1 = arr.var(axis =0)\n",
    "    V2 = arr.var(axis = 1)\n",
    "    V3 = arr.var()\n",
    "    \n",
    "    S1 = arr.std(axis = 0)\n",
    "    S2 = arr.std(axis = 1)\n",
    "    S3 = arr.std()\n",
    "    \n",
    "    A = arr.max(axis = 0)\n",
    "    B = arr.max(axis = 1)\n",
    "    C = arr.max()\n",
    "    \n",
    "    P = arr.min(axis = 0)\n",
    "    Q = arr.min(axis = 1)\n",
    "    R = arr.min()\n",
    "    \n",
    "    t1 = arr.sum(axis=0)\n",
    "    t2 = arr.sum(axis=1)\n",
    "    t3 = arr.sum()\n",
    "    \n",
    "    \n",
    "    dictionary  = {'Mean': [[M1[0],M1[1],M1[2]],[M2[0],M2[1],M2[2]],[M3]],\n",
    "                  'Variance':[[V1[0],V1[1],V1[2]],[V2[0],V2[1],V2[2]],[V3]],\n",
    "                  'Stadard deviation':[[S1[0],S1[1],S1[2]],[S2[0],S2[1],S2[2]],[S3]],\n",
    "                  'Max':[[A[0],A[1],A[2]],[B[0],B[1],B[2]],[C]],\n",
    "                  'Min':[[P[0],P[1],P[2]],[Q[0],Q[1],Q[2]],[R]],\n",
    "                   'Sum':[[t1[0],t1[1],t1[2]],[t2[0],t2[1],t2[2]],[t3]]}\n",
    "    \n",
    "   \n",
    "    \n",
    "    return print(dictionary)\n",
    "    "
   ]
  },
  {
   "cell_type": "code",
   "execution_count": null,
   "id": "fdc73505",
   "metadata": {},
   "outputs": [],
   "source": []
  },
  {
   "cell_type": "code",
   "execution_count": null,
   "id": "f2a439e7",
   "metadata": {},
   "outputs": [],
   "source": []
  },
  {
   "cell_type": "code",
   "execution_count": null,
   "id": "d3270942",
   "metadata": {},
   "outputs": [],
   "source": []
  },
  {
   "cell_type": "code",
   "execution_count": null,
   "id": "da53e387",
   "metadata": {},
   "outputs": [],
   "source": []
  },
  {
   "cell_type": "code",
   "execution_count": null,
   "id": "782bae8c",
   "metadata": {},
   "outputs": [],
   "source": []
  }
 ],
 "metadata": {
  "kernelspec": {
   "display_name": "Python 3 (ipykernel)",
   "language": "python",
   "name": "python3"
  },
  "language_info": {
   "codemirror_mode": {
    "name": "ipython",
    "version": 3
   },
   "file_extension": ".py",
   "mimetype": "text/x-python",
   "name": "python",
   "nbconvert_exporter": "python",
   "pygments_lexer": "ipython3",
   "version": "3.11.5"
  }
 },
 "nbformat": 4,
 "nbformat_minor": 5
}
